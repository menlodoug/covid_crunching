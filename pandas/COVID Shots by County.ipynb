{
 "cells": [
  {
   "cell_type": "code",
   "execution_count": 1,
   "metadata": {},
   "outputs": [],
   "source": [
    "import pandas as pd\n",
    "import numpy as np\n",
    "import plotly.express as px\n",
    "pd.options.display.float_format = '{:.2f}'.format"
   ]
  },
  {
   "cell_type": "code",
   "execution_count": 2,
   "metadata": {
    "scrolled": true
   },
   "outputs": [
    {
     "data": {
      "text/html": [
       "<div>\n",
       "<style scoped>\n",
       "    .dataframe tbody tr th:only-of-type {\n",
       "        vertical-align: middle;\n",
       "    }\n",
       "\n",
       "    .dataframe tbody tr th {\n",
       "        vertical-align: top;\n",
       "    }\n",
       "\n",
       "    .dataframe thead th {\n",
       "        text-align: right;\n",
       "    }\n",
       "</style>\n",
       "<table border=\"1\" class=\"dataframe\">\n",
       "  <thead>\n",
       "    <tr style=\"text-align: right;\">\n",
       "      <th></th>\n",
       "      <th>date</th>\n",
       "      <th>county</th>\n",
       "      <th>fips</th>\n",
       "      <th>doses_administered</th>\n",
       "      <th>new_doses_administered</th>\n",
       "      <th>state</th>\n",
       "    </tr>\n",
       "  </thead>\n",
       "  <tbody>\n",
       "    <tr>\n",
       "      <th>2779</th>\n",
       "      <td>2021-01-28</td>\n",
       "      <td>Tulare</td>\n",
       "      <td>107</td>\n",
       "      <td>22964</td>\n",
       "      <td>nan</td>\n",
       "      <td>California</td>\n",
       "    </tr>\n",
       "    <tr>\n",
       "      <th>2780</th>\n",
       "      <td>2021-01-28</td>\n",
       "      <td>Tuolumne</td>\n",
       "      <td>109</td>\n",
       "      <td>4490</td>\n",
       "      <td>nan</td>\n",
       "      <td>California</td>\n",
       "    </tr>\n",
       "    <tr>\n",
       "      <th>2781</th>\n",
       "      <td>2021-01-28</td>\n",
       "      <td>Ventura</td>\n",
       "      <td>111</td>\n",
       "      <td>60015</td>\n",
       "      <td>nan</td>\n",
       "      <td>California</td>\n",
       "    </tr>\n",
       "    <tr>\n",
       "      <th>2782</th>\n",
       "      <td>2021-01-28</td>\n",
       "      <td>Yolo</td>\n",
       "      <td>113</td>\n",
       "      <td>15634</td>\n",
       "      <td>nan</td>\n",
       "      <td>California</td>\n",
       "    </tr>\n",
       "    <tr>\n",
       "      <th>2783</th>\n",
       "      <td>2021-01-28</td>\n",
       "      <td>Yuba</td>\n",
       "      <td>115</td>\n",
       "      <td>2844</td>\n",
       "      <td>nan</td>\n",
       "      <td>California</td>\n",
       "    </tr>\n",
       "  </tbody>\n",
       "</table>\n",
       "</div>"
      ],
      "text/plain": [
       "            date    county  fips  doses_administered  new_doses_administered  \\\n",
       "2779  2021-01-28    Tulare   107               22964                     nan   \n",
       "2780  2021-01-28  Tuolumne   109                4490                     nan   \n",
       "2781  2021-01-28   Ventura   111               60015                     nan   \n",
       "2782  2021-01-28      Yolo   113               15634                     nan   \n",
       "2783  2021-01-28      Yuba   115                2844                     nan   \n",
       "\n",
       "           state  \n",
       "2779  California  \n",
       "2780  California  \n",
       "2781  California  \n",
       "2782  California  \n",
       "2783  California  "
      ]
     },
     "execution_count": 2,
     "metadata": {},
     "output_type": "execute_result"
    }
   ],
   "source": [
    "vaccine_df = pd.read_csv('https://raw.githubusercontent.com/datadesk/california-coronavirus-data/master/cdph-vaccination-county-totals.csv')\n",
    "vaccine_df['state'] = 'California'\n",
    "vaccine_df.tail(5)"
   ]
  },
  {
   "cell_type": "code",
   "execution_count": 3,
   "metadata": {},
   "outputs": [],
   "source": [
    "vaccine_df.to_csv('cdph-vaccination-county-totals.csv', index=False)"
   ]
  },
  {
   "cell_type": "code",
   "execution_count": null,
   "metadata": {},
   "outputs": [],
   "source": []
  }
 ],
 "metadata": {
  "kernelspec": {
   "display_name": "PythonData",
   "language": "python",
   "name": "pythondata"
  },
  "language_info": {
   "codemirror_mode": {
    "name": "ipython",
    "version": 3
   },
   "file_extension": ".py",
   "mimetype": "text/x-python",
   "name": "python",
   "nbconvert_exporter": "python",
   "pygments_lexer": "ipython3",
   "version": "3.8.5"
  }
 },
 "nbformat": 4,
 "nbformat_minor": 4
}
