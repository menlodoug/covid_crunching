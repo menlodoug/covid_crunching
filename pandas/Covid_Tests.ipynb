{
 "cells": [
  {
   "cell_type": "markdown",
   "metadata": {},
   "source": [
    "# Importing from the COVID Tracking Project\n",
    "\n",
    "This script pulls data from the API provided by the [COVID Tracking Project](https://covidtracking.com/). They're collecting data from 50 US states, the District of Columbia, and five U.S. territories to provide the most comprehensive testing data. They attempt to include positive and negative results, pending tests and total people tested for each state or district currently reporting that data."
   ]
  },
  {
   "cell_type": "code",
   "execution_count": 1,
   "metadata": {},
   "outputs": [],
   "source": [
    "import pandas as pd\n",
    "import numpy as np\n",
    "import requests\n",
    "import json\n",
    "import datetime\n",
    "import pycountry"
   ]
  },
  {
   "cell_type": "code",
   "execution_count": 2,
   "metadata": {
    "tags": [
     "parameters"
    ]
   },
   "outputs": [],
   "source": [
    "# papermill parameters\n",
    "# output_folder = '../output/'"
   ]
  },
  {
   "cell_type": "code",
   "execution_count": 2,
   "metadata": {},
   "outputs": [],
   "source": [
    "raw_response = requests.get(\"https://covidtracking.com/api/v1/states/daily.json\").text\n",
    "raw_data = pd.DataFrame.from_dict(json.loads(raw_response))"
   ]
  },
  {
   "cell_type": "markdown",
   "metadata": {},
   "source": [
    "### Data Quality\n",
    "1. Replace empty values with zero\n",
    "2. Convert \"date\" int column to \"Date\" datetime column\n",
    "4. Rename columns in order to match with other source\n",
    "5. Drop unnecessary columns\n",
    "6. Add \"Country/Region\" column, since the source contains data from US states, it can be hardcoded"
   ]
  },
  {
   "cell_type": "code",
   "execution_count": 3,
   "metadata": {},
   "outputs": [],
   "source": [
    "data = raw_data.fillna(0)\n",
    "data['Date'] = pd.to_datetime(data['date'].astype(str), format='%Y%m%d')\n",
    "data = data.rename(\n",
    "    columns={\n",
    "        \"state\": \"ISO3166-2\",\n",
    "        \"totalTestResults\": \"Total\"\n",
    "})\n",
    "data = data.drop(labels=['dateChecked', \"date\",\"hash\"], axis='columns')\n",
    "data['Country/Region'] = \"United States\"\n",
    "data['ISO3166-1'] = \"US\"\n"
   ]
  },
  {
   "cell_type": "code",
   "execution_count": 4,
   "metadata": {},
   "outputs": [],
   "source": [
    "states = {k.code.replace(\"US-\", \"\"): k.name for k in pycountry.subdivisions.get(country_code=\"US\")}"
   ]
  },
  {
   "cell_type": "code",
   "execution_count": 5,
   "metadata": {},
   "outputs": [],
   "source": [
    "data[\"Province/State\"] = data[\"ISO3166-2\"].apply(lambda x: states[x])"
   ]
  },
  {
   "cell_type": "markdown",
   "metadata": {},
   "source": [
    "## Sorting data by Province/State before calculating the daily differences"
   ]
  },
  {
   "cell_type": "code",
   "execution_count": 6,
   "metadata": {},
   "outputs": [],
   "source": [
    "data = data.sort_values(by=['Province/State'] + ['Date'], ascending=True)"
   ]
  },
  {
   "cell_type": "markdown",
   "metadata": {},
   "source": [
    "## Add `Last_Update_Date`"
   ]
  },
  {
   "cell_type": "code",
   "execution_count": 7,
   "metadata": {},
   "outputs": [],
   "source": [
    "data[\"Last_Update_Date\"] = datetime.datetime.utcnow()\n",
    "data['Last_Reported_Flag'] = data['Date'].max() == data['Date']"
   ]
  },
  {
   "cell_type": "markdown",
   "metadata": {},
   "source": [
    "## Export to CSV\n",
    "\n",
    "The example JSON reponse is:\n",
    "\n",
    "```\n",
    "[{\"date\":20200411,\"state\":\"AK\",\"positive\":257,\"negative\":7475,\"pending\":null,\"hospitalizedCurrently\":null,\"hospitalizedCumulative\":31,\"inIcuCurrently\":null,\"inIcuCumulative\":null,\"onVentilatorCurrently\":null,\"onVentilatorCumulative\":null,\"recovered\":63,\"hash\":\"a8d36e9ce19edaeaac989881abf96fc74196efba\",\"dateChecked\":\"2020-04-11T20:00:00Z\",\"death\":8,\"hospitalized\":31,\"total\":7732,\"totalTestResults\":7732,\"posNeg\":7732,\"fips\":\"02\",\"deathIncrease\":1,\"hospitalizedIncrease\":3,\"negativeIncrease\":289,\"positiveIncrease\":11,\"totalTestResultsIncrease\":300}\n",
    "```"
   ]
  },
  {
   "cell_type": "code",
   "execution_count": 8,
   "metadata": {},
   "outputs": [],
   "source": [
    "cal_tests = data[data['Province/State'] == 'California']\n",
    "cal_tests.to_csv('cal_tests.csv', columns=['Province/State', 'Date',\n",
    "                               'positive', 'positiveIncrease',\n",
    "                               'negative', 'negativeIncrease', \n",
    "                               'death', 'deathIncrease',\n",
    "                               'total', 'totalTestResultsIncrease' ], index=False)"
   ]
  },
  {
   "cell_type": "code",
   "execution_count": 9,
   "metadata": {},
   "outputs": [],
   "source": [
    "non_ca = data[(data['Province/State'] != 'California')  & (data['Date'] >= '2020-01-01')]\n",
    "non_ca.to_csv('non_ca.csv', columns=['Province/State', 'Date',\n",
    "                               'positive', 'positiveIncrease',\n",
    "                               'negative', 'negativeIncrease', \n",
    "                               'total', 'totalTestResultsIncrease', 'positiveTestsViral', 'negativeTestsViral', 'totalTestsViral', \n",
    "                                     'death', 'deathIncrease'], index=False)"
   ]
  },
  {
   "cell_type": "code",
   "execution_count": 10,
   "metadata": {},
   "outputs": [],
   "source": [
    "\n",
    "cal_tests.to_csv(\"covid_testing.csv\", columns=['Province/State', 'Date',\n",
    "                               'positive', 'positiveIncrease',\n",
    "                               'negative', 'negativeIncrease', \n",
    "                               'death', 'deathIncrease',\n",
    "                               'total', 'totalTestResultsIncrease' ], index=False)"
   ]
  },
  {
   "cell_type": "code",
   "execution_count": 11,
   "metadata": {},
   "outputs": [],
   "source": [
    "data.to_csv(\"us_covid_testing.csv\", columns=['Province/State', 'Date',\n",
    "                               'positive', 'positiveIncrease',\n",
    "                               'negative', 'negativeIncrease', \n",
    "                               'death', 'deathIncrease',\n",
    "                               'total', 'totalTestResultsIncrease' ], index=False)"
   ]
  },
  {
   "cell_type": "code",
   "execution_count": null,
   "metadata": {},
   "outputs": [],
   "source": []
  }
 ],
 "metadata": {
  "celltoolbar": "Tags",
  "kernelspec": {
   "display_name": "Python 3",
   "language": "python",
   "name": "python3"
  },
  "language_info": {
   "codemirror_mode": {
    "name": "ipython",
    "version": 3
   },
   "file_extension": ".py",
   "mimetype": "text/x-python",
   "name": "python",
   "nbconvert_exporter": "python",
   "pygments_lexer": "ipython3",
   "version": "3.8.5"
  },
  "pycharm": {
   "stem_cell": {
    "cell_type": "raw",
    "metadata": {
     "collapsed": false
    },
    "source": []
   }
  }
 },
 "nbformat": 4,
 "nbformat_minor": 2
}
